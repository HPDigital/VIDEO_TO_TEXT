{
 "cells": [
  {
   "cell_type": "code",
   "execution_count": 3,
   "id": "b015c777",
   "metadata": {},
   "outputs": [
    {
     "name": "stdout",
     "output_type": "stream",
     "text": [
      "MoviePy - Writing audio in audio.wav\n"
     ]
    },
    {
     "name": "stderr",
     "output_type": "stream",
     "text": [
      "                                                                        \r"
     ]
    },
    {
     "name": "stdout",
     "output_type": "stream",
     "text": [
      "MoviePy - Done.\n",
      "Texto transcrito:\n",
      "No se pudo completar la solicitud: recognition request failed: Bad Request\n"
     ]
    }
   ],
   "source": [
    "import moviepy.editor as mp\n",
    "import speech_recognition as sr\n",
    "\n",
    "def extract_audio(video_path, audio_path):\n",
    "    video = mp.VideoFileClip(video_path)\n",
    "    video.audio.write_audiofile(audio_path)\n",
    "\n",
    "def transcribe_audio(audio_path):\n",
    "    recognizer = sr.Recognizer()\n",
    "    with sr.AudioFile(audio_path) as source:\n",
    "        audio = recognizer.record(source)\n",
    "    try:\n",
    "        text = recognizer.recognize_google(audio, language= \"en-US\")  # Change to 'en-US' for English\n",
    "        return text\n",
    "    except sr.UnknownValueError:\n",
    "        return \"No se pudo reconocer el audio\"\n",
    "    except sr.RequestError as e:\n",
    "        return f\"No se pudo completar la solicitud: {e}\"\n",
    "\n",
    "# Rutas de archivos\n",
    "video_path = r\"C:\\Users\\HP\\Videos\\Movavi Screen Recorder\\BUSINESS MODEL CANVAS\\1.- SEGMENTO DE CLIENTES.mp4\"\n",
    "audio_path = 'audio.wav'\n",
    "\n",
    "# Extraer audio del video\n",
    "extract_audio(video_path, audio_path)\n",
    "\n",
    "# Transcribir el audio\n",
    "texto_transcrito = transcribe_audio(audio_path)\n",
    "print(\"Texto transcrito:\")\n",
    "print(texto_transcrito)\n"
   ]
  },
  {
   "cell_type": "code",
   "execution_count": null,
   "id": "437a6df3",
   "metadata": {},
   "outputs": [],
   "source": []
  },
  {
   "cell_type": "code",
   "execution_count": null,
   "id": "8b195eae",
   "metadata": {},
   "outputs": [],
   "source": []
  }
 ],
 "metadata": {
  "kernelspec": {
   "display_name": "Python 3 (ipykernel)",
   "language": "python",
   "name": "python3"
  },
  "language_info": {
   "codemirror_mode": {
    "name": "ipython",
    "version": 3
   },
   "file_extension": ".py",
   "mimetype": "text/x-python",
   "name": "python",
   "nbconvert_exporter": "python",
   "pygments_lexer": "ipython3",
   "version": "3.11.9"
  }
 },
 "nbformat": 4,
 "nbformat_minor": 5
}
